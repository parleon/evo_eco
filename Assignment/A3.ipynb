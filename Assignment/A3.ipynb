{
 "cells": [
  {
   "cell_type": "code",
   "execution_count": 41,
   "metadata": {},
   "outputs": [],
   "source": [
    "import pandas as pd\n",
    "import numpy as np\n",
    "import matplotlib.pyplot as plt\n",
    "import statsmodels.api as sm\n"
   ]
  },
  {
   "cell_type": "code",
   "execution_count": 42,
   "metadata": {},
   "outputs": [],
   "source": [
    "datapath = \"../data/ICPSR_04351/DS0002/04351-0002-Data.csv\"\n",
    "\n",
    "dump = pd.read_csv(datapath)\n",
    "\n",
    "\n",
    "unemployment_datapath = \"../data/ECONOMIC/UNRATE.csv\"\n",
    "unemployment = pd.read_csv(unemployment_datapath)"
   ]
  },
  {
   "cell_type": "code",
   "execution_count": 43,
   "metadata": {},
   "outputs": [],
   "source": [
    "dump = dump[[\"MONTH\",\"YEAR\", \"VICSEX\", \"VICRACE\", \"OFFSEX\", \"OFFRACE\", \"RELATION\", \"CIRCUM\", \"POPGROUP\", \"STCODE\"]]\n",
    "\n",
    "# use date for joining\n",
    "dump['DATE'] = pd.to_datetime(dump[['YEAR', 'MONTH']].assign(DAY=1)).dt.date \n",
    "\n",
    "dump[\"DATE_and_STATE\"] = dump[\"DATE\"].astype(str) + \"_\" + dump[\"STCODE\"].astype(str)\n",
    "\n",
    "dump[\"COUNT\"] = 1\n",
    "\n",
    "dump[\"IN_FAMILY\"] = dump[\"RELATION\"].apply(lambda x: 1 if 1 <= 1 and x <= 16 else 0)\n",
    "dump[\"KILLED_CHILD\"] = dump[\"RELATION\"].apply(lambda x: 1 if x in [7,8] else 0)\n",
    "dump[\"IN_CITY\"] = dump[\"POPGROUP\"].apply(lambda x: 1 if x in [1, 2, 10, 11, 12, 13, 20] else 0)\n",
    "dump[\"IN_SUBURB\"] = dump[\"POPGROUP\"].apply(lambda x: 1 if x in [3, 4, 5, 30, 40, 50] else 0)\n",
    "dump[\"IN_RURAL\"] = dump[\"POPGROUP\"].apply(lambda x: 1 if x not in [1, 2, 10, 11, 12, 13, 20, 3, 4, 5, 30, 40, 50] else 0)\n",
    "\n",
    "# drop unknown race and unknown sex for offender\n",
    "dump = dump[dump['OFFSEX'] != 9]\n",
    "dump = dump[dump['OFFRACE'] != 9]\n",
    "\n",
    "# Collapse Race into white, non white; collapse sex into male\n",
    "dump['WHITE_OFF'] = dump['OFFRACE'].apply(lambda x : 1 if x == 1 else 0)\n",
    "dump['MALE_OFF'] = dump['OFFSEX'].apply(lambda x: 1 if x == 1 else 0)\n",
    "\n",
    "\n",
    "# D_S_PANEL = dump.groupby(\"DATE_and_STATE\")[[\"COUNT\",\"IN_FAMILY\", \"KILLED_CHILD\", \"IN_CITY\", \"IN_SUBURB\", \"IN_RURAL\"]].sum()\n"
   ]
  },
  {
   "cell_type": "code",
   "execution_count": 44,
   "metadata": {},
   "outputs": [
    {
     "name": "stdout",
     "output_type": "stream",
     "text": [
      "dropped cols ['MONTH', 'YEAR', 'VICSEX', 'VICRACE', 'OFFSEX', 'OFFRACE', 'RELATION', 'CIRCUM', 'POPGROUP', 'STCODE', 'DATE_and_STATE', 'COUNT', 'IN_SUBURB']\n",
      "            DATE  IN_FAMILY  KILLED_CHILD  IN_CITY  WHITE_OFF  MALE_OFF  \\\n",
      "0     1976-01-01          0             0        0          0         0   \n",
      "1     1976-01-01          0             0        0          0         0   \n",
      "2     1976-01-01          0             0        0          0         1   \n",
      "3     1976-01-01          0             0        0          0         1   \n",
      "4     1976-01-01          0             0        0          1         0   \n",
      "...          ...        ...           ...      ...        ...       ...   \n",
      "11584 2003-12-01          1             1        0          1         1   \n",
      "11585 2003-12-01          1             1        1          0         0   \n",
      "11586 2003-12-01          1             1        1          0         1   \n",
      "11587 2003-12-01          1             1        1          1         0   \n",
      "11588 2003-12-01          1             1        1          1         1   \n",
      "\n",
      "       IN_RURAL  Counts start_date  PERIOD  PERIOD_SQ  LOG_PERIOD  \n",
      "0             0       8 1976-01-01       0          0    0.000000  \n",
      "1             1      12 1976-01-01       0          0    0.000000  \n",
      "2             0      67 1976-01-01       0          0    0.000000  \n",
      "3             1      61 1976-01-01       0          0    0.000000  \n",
      "4             0       8 1976-01-01       0          0    0.000000  \n",
      "...         ...     ...        ...     ...        ...         ...  \n",
      "11584         1       4 1976-01-01     335     112225    5.817111  \n",
      "11585         0       4 1976-01-01     335     112225    5.817111  \n",
      "11586         0       2 1976-01-01     335     112225    5.817111  \n",
      "11587         0       1 1976-01-01     335     112225    5.817111  \n",
      "11588         0      14 1976-01-01     335     112225    5.817111  \n",
      "\n",
      "[11589 rows x 12 columns]\n"
     ]
    }
   ],
   "source": [
    "# new granuality of data\n",
    "\n",
    "# Cole's group by\n",
    "\n",
    "\n",
    "# what we want to keep\n",
    "groupby_cols = [\"DATE\", \"IN_FAMILY\", \"KILLED_CHILD\", \"IN_CITY\", \"WHITE_OFF\", \"MALE_OFF\", \"IN_RURAL\"]\n",
    "# groupby_cols = [\"DATE\", \"IN_FAMILY\", ]\n",
    "\n",
    "\n",
    "drop_cols = [col for col in dump.columns if col not in groupby_cols] \n",
    "print(\"dropped cols\" , drop_cols)\n",
    "\n",
    "ts = dump.drop(columns=drop_cols, axis=1)\n",
    "\n",
    "\n",
    "# maybe try not counting\n",
    "ts = ts.groupby(groupby_cols)['DATE'].agg('count').to_frame(\"Counts\").reset_index()\n",
    "ts['DATE'] = pd.to_datetime(ts['DATE'])\n",
    "\n",
    "\n",
    "\n",
    "start_date =  pd.to_datetime(\"1976-01-01\")\n",
    "\n",
    "# periods\n",
    "ts['start_date'] = start_date\n",
    "ts['PERIOD'] = (ts['DATE'].dt.year - ts['start_date'].dt.year) * 12 + (ts['DATE'].dt.month - ts['start_date'].dt.month)\n",
    "ts['PERIOD_SQ'] = ts['PERIOD'] **2\n",
    "ts['LOG_PERIOD'] = np.log(ts['PERIOD'] + 1)\n",
    "\n",
    "\n",
    "\n",
    "print(ts)\n"
   ]
  },
  {
   "cell_type": "code",
   "execution_count": 45,
   "metadata": {},
   "outputs": [],
   "source": [
    "\n",
    "# make both dates same type before merge\n",
    "\n",
    "unemployment['DATE'] = pd.to_datetime(unemployment['DATE'])\n",
    "\n",
    "# add year only column for inflation merge\n",
    "ts['YEAR'] = ts['DATE'].dt.year\n"
   ]
  },
  {
   "cell_type": "code",
   "execution_count": 46,
   "metadata": {},
   "outputs": [],
   "source": [
    "# inflation data\n",
    "inflation_df = pd.read_csv('../data/ECONOMIC/FPCPITOTLZGUSA.csv')\n",
    "inflation_df['DATE'] = pd.to_datetime(inflation_df['DATE'])\n",
    "inflation_df['YEAR'] = inflation_df['DATE'].dt.year\n",
    "inflation_df.rename(columns={\"FPCPITOTLZGUSA\": \"CPI\"}, inplace=True)"
   ]
  },
  {
   "cell_type": "code",
   "execution_count": 47,
   "metadata": {},
   "outputs": [],
   "source": [
    "population_df = pd.read_csv('../data/ECONOMIC/POPTHM.csv')\n",
    "population_df['DATE'] = pd.to_datetime(population_df['DATE'])\n",
    "population_df.rename(columns={\"POPTHM\": \"POP\"}, inplace=True)"
   ]
  },
  {
   "cell_type": "code",
   "execution_count": 48,
   "metadata": {},
   "outputs": [],
   "source": [
    "# Merge on date\n",
    "ts = ts.merge(unemployment, how=\"left\", on='DATE')\n",
    "ts = ts.merge(population_df, how='left', on='DATE')\n",
    "ts = ts.merge(inflation_df[['YEAR', 'CPI']], how='left', on='YEAR')\n",
    "\n",
    "#ts.dropna(inplace=True)\n",
    "# ts2.dropna(inplace=True)"
   ]
  },
  {
   "cell_type": "code",
   "execution_count": 49,
   "metadata": {},
   "outputs": [],
   "source": [
    "# use pop to get in family murder RATE  \n",
    "ts['MURDERS_PER_100K'] = ts['Counts'] / (ts['POP'] / 100)"
   ]
  },
  {
   "cell_type": "markdown",
   "metadata": {},
   "source": [
    "## More complicated Reg - this is our reg"
   ]
  },
  {
   "cell_type": "code",
   "execution_count": 59,
   "metadata": {},
   "outputs": [
    {
     "name": "stdout",
     "output_type": "stream",
     "text": [
      "                            OLS Regression Results                            \n",
      "==============================================================================\n",
      "Dep. Variable:       MURDERS_PER_100K   R-squared:                       0.218\n",
      "Model:                            OLS   Adj. R-squared:                  0.218\n",
      "Method:                 Least Squares   F-statistic:                     301.6\n",
      "Date:                Sun, 28 Apr 2024   Prob (F-statistic):               0.00\n",
      "Time:                        11:08:19   Log-Likelihood:                 30726.\n",
      "No. Observations:                7563   AIC:                        -6.144e+04\n",
      "Df Residuals:                    7555   BIC:                        -6.138e+04\n",
      "Df Model:                           7                                         \n",
      "Covariance Type:            nonrobust                                         \n",
      "==============================================================================\n",
      "                 coef    std err          t      P>|t|      [0.025      0.975]\n",
      "------------------------------------------------------------------------------\n",
      "const          0.0022      0.000      4.421      0.000       0.001       0.003\n",
      "UNRATE         0.0001   4.53e-05      2.507      0.012    2.48e-05       0.000\n",
      "CPI         4.317e-05   2.49e-05      1.736      0.083   -5.58e-06    9.19e-05\n",
      "WHITE_OFF      0.0012   9.59e-05     12.660      0.000       0.001       0.001\n",
      "MALE_OFF       0.0033   9.58e-05     34.687      0.000       0.003       0.004\n",
      "IN_RURAL       0.0012      0.000     11.906      0.000       0.001       0.001\n",
      "PERIOD     -1.063e-05   2.28e-06     -4.667      0.000   -1.51e-05   -6.16e-06\n",
      "PERIOD_SQ   8.317e-10   5.95e-09      0.140      0.889   -1.08e-08    1.25e-08\n",
      "==============================================================================\n",
      "Omnibus:                     2175.881   Durbin-Watson:                   1.064\n",
      "Prob(Omnibus):                  0.000   Jarque-Bera (JB):             6733.287\n",
      "Skew:                           1.477   Prob(JB):                         0.00\n",
      "Kurtosis:                       6.556   Cond. No.                     5.10e+05\n",
      "==============================================================================\n",
      "\n",
      "Notes:\n",
      "[1] Standard Errors assume that the covariance matrix of the errors is correctly specified.\n",
      "[2] The condition number is large, 5.1e+05. This might indicate that there are\n",
      "strong multicollinearity or other numerical problems.\n",
      "\n",
      "===============================\n",
      "               MURDERS_PER_100K\n",
      "-------------------------------\n",
      "const          0.0022***       \n",
      "               (0.0005)        \n",
      "UNRATE         0.0001**        \n",
      "               (0.0000)        \n",
      "CPI            0.0000*         \n",
      "               (0.0000)        \n",
      "WHITE_OFF      0.0012***       \n",
      "               (0.0001)        \n",
      "MALE_OFF       0.0033***       \n",
      "               (0.0001)        \n",
      "IN_RURAL       0.0012***       \n",
      "               (0.0001)        \n",
      "PERIOD         -0.0000***      \n",
      "               (0.0000)        \n",
      "PERIOD_SQ      0.0000          \n",
      "               (0.0000)        \n",
      "R-squared      0.2184          \n",
      "R-squared Adj. 0.2177          \n",
      "===============================\n",
      "Standard errors in parentheses.\n",
      "* p<.1, ** p<.05, ***p<.01\n"
     ]
    }
   ],
   "source": [
    "# DON'T MODIFY ts HERE\n",
    "\n",
    "# drop any rows that are not infamily murders\n",
    "reg_data = ts[ts['IN_FAMILY'] == 1]\n",
    "\n",
    "x = reg_data[[\"UNRATE\", 'CPI', \"WHITE_OFF\", \"MALE_OFF\", \"IN_RURAL\", 'PERIOD', 'PERIOD_SQ']]\n",
    "x = sm.add_constant(x)\n",
    "y = ((reg_data[\"MURDERS_PER_100K\"]))\n",
    "\n",
    "\n",
    "model = sm.OLS(y, x).fit()\n",
    "\n",
    "print(model.summary())\n",
    "\n",
    "from statsmodels.iolib.summary2 import summary_col\n",
    "res = summary_col(model, stars=True)\n",
    "print(res)\n",
    "\n",
    "# save as image\n",
    "# import matplotlib.pyplot as plt\n",
    "# fig, ax = plt.subplots(figsize=(16, 8))\n",
    "# summary = []\n",
    "# model.summary(print_fn=lambda x: summary.append(x))\n",
    "# summary = '\\n'.join(summary)\n",
    "# ax.text(0.01, 0.05, summary, fontfamily='monospace', fontsize=12)\n",
    "# ax.axis('off')\n",
    "# plt.tight_layout()\n",
    "# plt.savefig('output.png', dpi=300, bbox_inches='tight')\n",
    "\n"
   ]
  },
  {
   "cell_type": "markdown",
   "metadata": {},
   "source": [
    "### Extra plots and figs for paper"
   ]
  },
  {
   "cell_type": "code",
   "execution_count": 57,
   "metadata": {},
   "outputs": [
    {
     "name": "stdout",
     "output_type": "stream",
     "text": [
      "          IN_FAMILY  KILLED_CHILD  IN_CITY  WHITE_OFF  IN_RURAL  Counts  \\\n",
      "MALE_OFF                                                                  \n",
      "0              3719          1759     1318       1952      1222   21511   \n",
      "1              3844          1828     1333       1990      1274   53835   \n",
      "\n",
      "          PERIOD  PERIOD_SQ    LOG_PERIOD     YEAR   UNRATE          POP  \\\n",
      "MALE_OFF                                                                   \n",
      "0         616471  136495469  17925.536704  7398410  23647.9  935652201.0   \n",
      "1         644356  144021370  18579.745630  7647672  24388.2  968850245.0   \n",
      "\n",
      "                   CPI  MURDERS_PER_100K  \n",
      "MALE_OFF                                  \n",
      "0         16914.096362          8.858245  \n",
      "1         17383.308449         21.826360  \n",
      "           IN_FAMILY  KILLED_CHILD  IN_CITY  MALE_OFF  IN_RURAL  Counts  \\\n",
      "WHITE_OFF                                                                 \n",
      "0               3621          1644     1335      1854      1164   30323   \n",
      "1               3942          1943     1316      1990      1332   45023   \n",
      "\n",
      "           PERIOD  PERIOD_SQ    LOG_PERIOD     YEAR   UNRATE          POP  \\\n",
      "WHITE_OFF                                                                   \n",
      "0          601421  133188539  17472.780137  7203548  23040.6  911254517.0   \n",
      "1          659406  147328300  19032.502197  7842534  24995.5  993247929.0   \n",
      "\n",
      "                    CPI  MURDERS_PER_100K  \n",
      "WHITE_OFF                                  \n",
      "0          16435.556918         12.435476  \n",
      "1          17861.847893         18.249130  \n"
     ]
    },
    {
     "data": {
      "image/png": "[encoded data removed]",
      "text/plain": [
       "<Figure size 640x480 with 1 Axes>"
      ]
     },
     "metadata": {},
     "output_type": "display_data"
    },
    {
     "data": {
      "image/png": "[encoded data removed]",
      "text/plain": [
       "<Figure size 640x480 with 1 Axes>"
      ]
     },
     "metadata": {},
     "output_type": "display_data"
    }
   ],
   "source": [
    "by_race = reg_data.groupby(['WHITE_OFF']).sum('Counts')\n",
    "by_sex = reg_data.groupby(['MALE_OFF']).sum('Counts')\n",
    "by_rural = reg_data.groupby(['IN_RURAL']).sum('Counts')\n",
    "\n",
    "plt.pie(by_race['Counts'], labels=['Non-White', 'White'], normalize=True, autopct='%1.1f%%')\n",
    "plt.title(\"Offender Race for In-Family Murders\")\n",
    "plt.show()\n",
    "\n",
    "\n",
    "plt.pie(by_sex['Counts'], labels=['Female', 'Male'], normalize=True, autopct='%1.1f%%', colors=['Pink', 'deepskyblue'])\n",
    "plt.title(\"Offender Sex for In-Family Murders\")\n",
    "plt.show()"
   ]
  },
  {
   "cell_type": "code",
   "execution_count": null,
   "metadata": {},
   "outputs": [],
   "source": []
  }
 ],
 "metadata": {
  "kernelspec": {
   "display_name": "venv",
   "language": "python",
   "name": "python3"
  },
  "language_info": {
   "codemirror_mode": {
    "name": "ipython",
    "version": 3
   },
   "file_extension": ".py",
   "mimetype": "text/x-python",
   "name": "python",
   "nbconvert_exporter": "python",
   "pygments_lexer": "ipython3",
   "version": "3.10.13"
  }
 },
 "nbformat": 4,
 "nbformat_minor": 2
}
