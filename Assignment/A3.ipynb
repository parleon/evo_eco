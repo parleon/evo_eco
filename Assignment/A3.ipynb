{
 "cells": [
  {
   "cell_type": "code",
   "execution_count": 122,
   "metadata": {},
   "outputs": [],
   "source": [
    "import pandas as pd\n",
    "import numpy as np\n",
    "import matplotlib.pyplot as plt\n",
    "import statsmodels.api as sm\n"
   ]
  },
  {
   "cell_type": "code",
   "execution_count": 123,
   "metadata": {},
   "outputs": [],
   "source": [
    "datapath = \"../data/ICPSR_04351/DS0002/04351-0002-Data.csv\"\n",
    "\n",
    "dump = pd.read_csv(datapath)\n",
    "\n",
    "\n",
    "unemployment_datapath = \"../data/ECONOMIC/UNRATE.csv\"\n",
    "unemployment = pd.read_csv(unemployment_datapath)"
   ]
  },
  {
   "cell_type": "code",
   "execution_count": 124,
   "metadata": {},
   "outputs": [],
   "source": [
    "dump = dump[[\"MONTH\",\"YEAR\", \"VICSEX\", \"VICRACE\", \"OFFSEX\", \"OFFRACE\", \"RELATION\", \"CIRCUM\", \"POPGROUP\", \"STCODE\"]]\n",
    "\n",
    "# use date for joining\n",
    "dump['DATE'] = pd.to_datetime(dump[['YEAR', 'MONTH']].assign(DAY=1)).dt.date \n",
    "\n",
    "dump[\"DATE_and_STATE\"] = dump[\"DATE\"].astype(str) + \"_\" + dump[\"STCODE\"].astype(str)\n",
    "\n",
    "dump[\"COUNT\"] = 1\n",
    "\n",
    "dump[\"IN_FAMILY\"] = dump[\"RELATION\"].apply(lambda x: 1 if 1 <= 1 and x <= 16 else 0)\n",
    "dump[\"KILLED_CHILD\"] = dump[\"RELATION\"].apply(lambda x: 1 if x in [7,8] else 0)\n",
    "dump[\"IN_CITY\"] = dump[\"POPGROUP\"].apply(lambda x: 1 if x in [1, 2, 10, 11, 12, 13, 20] else 0)\n",
    "dump[\"IN_SUBURB\"] = dump[\"POPGROUP\"].apply(lambda x: 1 if x in [3, 4, 5, 30, 40, 50] else 0)\n",
    "dump[\"IN_RURAL\"] = dump[\"POPGROUP\"].apply(lambda x: 1 if x not in [1, 2, 10, 11, 12, 13, 20, 3, 4, 5, 30, 40, 50] else 0)\n",
    "\n",
    "# drop unknown race and unknown sex for offender\n",
    "dump = dump[dump['OFFSEX'] != 9]\n",
    "dump = dump[dump['OFFRACE'] != 9]\n",
    "\n",
    "# Collapse Race into white, non white; collapse sex into male\n",
    "dump['WHITE_OFF'] = dump['OFFRACE'].apply(lambda x : 1 if x == 1 else 0)\n",
    "dump['MALE_OFF'] = dump['OFFSEX'].apply(lambda x: 1 if x == 1 else 0)\n",
    "\n",
    "\n",
    "# D_S_PANEL = dump.groupby(\"DATE_and_STATE\")[[\"COUNT\",\"IN_FAMILY\", \"KILLED_CHILD\", \"IN_CITY\", \"IN_SUBURB\", \"IN_RURAL\"]].sum()\n"
   ]
  },
  {
   "cell_type": "code",
   "execution_count": 126,
   "metadata": {},
   "outputs": [
    {
     "name": "stdout",
     "output_type": "stream",
     "text": [
      "dropped cols ['MONTH', 'YEAR', 'VICSEX', 'VICRACE', 'OFFSEX', 'OFFRACE', 'RELATION', 'CIRCUM', 'POPGROUP', 'STCODE', 'DATE_and_STATE', 'COUNT', 'IN_SUBURB']\n",
      "            DATE  IN_FAMILY  KILLED_CHILD  IN_CITY  WHITE_OFF  MALE_OFF  \\\n",
      "0     1976-01-01          0             0        0          0         0   \n",
      "1     1976-01-01          0             0        0          0         0   \n",
      "2     1976-01-01          0             0        0          0         1   \n",
      "3     1976-01-01          0             0        0          0         1   \n",
      "4     1976-01-01          0             0        0          1         0   \n",
      "...          ...        ...           ...      ...        ...       ...   \n",
      "11584 2003-12-01          1             1        0          1         1   \n",
      "11585 2003-12-01          1             1        1          0         0   \n",
      "11586 2003-12-01          1             1        1          0         1   \n",
      "11587 2003-12-01          1             1        1          1         0   \n",
      "11588 2003-12-01          1             1        1          1         1   \n",
      "\n",
      "       IN_RURAL  Counts start_date  PERIOD  PERIOD_SQ  LOG_PERIOD  \n",
      "0             0       8 1976-01-01       0          0    0.000000  \n",
      "1             1      12 1976-01-01       0          0    0.000000  \n",
      "2             0      67 1976-01-01       0          0    0.000000  \n",
      "3             1      61 1976-01-01       0          0    0.000000  \n",
      "4             0       8 1976-01-01       0          0    0.000000  \n",
      "...         ...     ...        ...     ...        ...         ...  \n",
      "11584         1       4 1976-01-01     335     112225    5.817111  \n",
      "11585         0       4 1976-01-01     335     112225    5.817111  \n",
      "11586         0       2 1976-01-01     335     112225    5.817111  \n",
      "11587         0       1 1976-01-01     335     112225    5.817111  \n",
      "11588         0      14 1976-01-01     335     112225    5.817111  \n",
      "\n",
      "[11589 rows x 12 columns]\n",
      "dropped cols ['MONTH', 'YEAR', 'VICSEX', 'VICRACE', 'OFFSEX', 'OFFRACE', 'RELATION', 'CIRCUM', 'POPGROUP', 'STCODE', 'DATE_and_STATE', 'COUNT', 'IN_SUBURB']\n"
     ]
    }
   ],
   "source": [
    "# new granuality of data\n",
    "\n",
    "# Cole's group by\n",
    "\n",
    "\n",
    "# what we want to keep\n",
    "groupby_cols = [\"DATE\", \"IN_FAMILY\", \"KILLED_CHILD\", \"IN_CITY\", \"WHITE_OFF\", \"MALE_OFF\", \"IN_RURAL\"]\n",
    "# groupby_cols = [\"DATE\", \"IN_FAMILY\", ]\n",
    "\n",
    "\n",
    "drop_cols = [col for col in dump.columns if col not in groupby_cols] \n",
    "print(\"dropped cols\" , drop_cols)\n",
    "\n",
    "ts = dump.drop(columns=drop_cols, axis=1)\n",
    "\n",
    "\n",
    "# maybe try not counting\n",
    "ts = ts.groupby(groupby_cols)['DATE'].agg('count').to_frame(\"Counts\").reset_index()\n",
    "ts['DATE'] = pd.to_datetime(ts['DATE'])\n",
    "\n",
    "start_date =  pd.to_datetime(\"1976-01-01\")\n",
    "\n",
    "# periods\n",
    "ts['start_date'] = start_date\n",
    "ts['PERIOD'] = (ts['DATE'].dt.year - ts['start_date'].dt.year) * 12 + (ts['DATE'].dt.month - ts['start_date'].dt.month)\n",
    "ts['PERIOD_SQ'] = ts['PERIOD'] **2\n",
    "ts['LOG_PERIOD'] = np.log(ts['PERIOD'] + 1)\n",
    "\n",
    "\n",
    "\n",
    "print(ts)\n",
    "\n",
    "\n",
    "### simple ts2\n",
    "\n",
    "# what we want to keep\n",
    "groupby_cols2 = [\"DATE\", \"IN_FAMILY\"]\n",
    "# groupby_cols = [\"DATE\", \"IN_FAMILY\", ]\n",
    "\n",
    "\n",
    "drop_cols2 = [col for col in dump.columns if col not in groupby_cols2] \n",
    "print(\"dropped cols\" , drop_cols)\n",
    "\n",
    "ts2 = dump.drop(columns=drop_cols2, axis=1)\n",
    "\n",
    "\n",
    "# maybe try not counting\n",
    "ts2 = ts2.groupby(groupby_cols2)['DATE'].agg('count').to_frame(\"Counts\").reset_index()\n",
    "ts2['DATE'] = pd.to_datetime(ts2['DATE'])\n",
    "\n",
    "start_date =  pd.to_datetime(\"1976-01-01\")\n",
    "\n",
    "# periods\n",
    "ts2['start_date'] = start_date\n",
    "ts2['PERIOD'] = (ts2['DATE'].dt.year - ts2['start_date'].dt.year) * 12 + (ts2['DATE'].dt.month - ts2['start_date'].dt.month)\n",
    "ts2['PERIOD_SQ'] = ts2['PERIOD'] **2\n",
    "ts2['LOG_PERIOD'] = np.log(ts2['PERIOD'] + 1)\n",
    "\n",
    "\n",
    "\n"
   ]
  },
  {
   "cell_type": "code",
   "execution_count": 127,
   "metadata": {},
   "outputs": [],
   "source": [
    "\n",
    "# make both dates same type before merge\n",
    "\n",
    "unemployment['DATE'] = pd.to_datetime(unemployment['DATE'])\n",
    "\n",
    "# add year only column for inflation merge\n",
    "ts['YEAR'] = ts['DATE'].dt.year\n",
    "\n",
    "ts2['YEAR'] = ts2['DATE'].dt.year\n"
   ]
  },
  {
   "cell_type": "code",
   "execution_count": 128,
   "metadata": {},
   "outputs": [],
   "source": [
    "# inflation data\n",
    "inflation_df = pd.read_csv('../data/ECONOMIC/FPCPITOTLZGUSA.csv')\n",
    "inflation_df['DATE'] = pd.to_datetime(inflation_df['DATE'])\n",
    "inflation_df['YEAR'] = inflation_df['DATE'].dt.year\n",
    "inflation_df.rename(columns={\"FPCPITOTLZGUSA\": \"CPI\"}, inplace=True)"
   ]
  },
  {
   "cell_type": "code",
   "execution_count": 129,
   "metadata": {},
   "outputs": [],
   "source": [
    "population_df = pd.read_csv('../data/ECONOMIC/POPTHM.csv')\n",
    "population_df['DATE'] = pd.to_datetime(population_df['DATE'])\n",
    "population_df.rename(columns={\"POPTHM\": \"POP\"}, inplace=True)"
   ]
  },
  {
   "cell_type": "code",
   "execution_count": 130,
   "metadata": {},
   "outputs": [],
   "source": [
    "# Merge on date\n",
    "ts = ts.merge(unemployment, how=\"left\", on='DATE')\n",
    "ts = ts.merge(population_df, how='left', on='DATE')\n",
    "ts = ts.merge(inflation_df[['YEAR', 'CPI']], how='left', on='YEAR')\n",
    "\n",
    "ts2 = ts2.merge(unemployment, how=\"left\", on='DATE')\n",
    "ts2 = ts2.merge(population_df, how='left', on='DATE')\n",
    "ts2 = ts2.merge(inflation_df[['YEAR', 'CPI']], how='left', on='YEAR')"
   ]
  },
  {
   "cell_type": "code",
   "execution_count": 131,
   "metadata": {},
   "outputs": [],
   "source": [
    "# use pop to get in family murder RATE  \n",
    "ts['MURDERS_PER_100K'] = ts['Counts'] / (ts['POP'] / 100)\n",
    "\n",
    "ts2['MURDERS_PER_100K'] = ts2['Counts'] / (ts2['POP'] / 100)"
   ]
  },
  {
   "cell_type": "markdown",
   "metadata": {},
   "source": [
    "## More complicated Reg "
   ]
  },
  {
   "cell_type": "code",
   "execution_count": 153,
   "metadata": {},
   "outputs": [
    {
     "name": "stdout",
     "output_type": "stream",
     "text": [
      "                            OLS Regression Results                            \n",
      "==============================================================================\n",
      "Dep. Variable:       MURDERS_PER_100K   R-squared:                       0.218\n",
      "Model:                            OLS   Adj. R-squared:                  0.218\n",
      "Method:                 Least Squares   F-statistic:                     301.6\n",
      "Date:                Sun, 28 Apr 2024   Prob (F-statistic):               0.00\n",
      "Time:                        15:02:32   Log-Likelihood:                 30726.\n",
      "No. Observations:                7563   AIC:                        -6.144e+04\n",
      "Df Residuals:                    7555   BIC:                        -6.138e+04\n",
      "Df Model:                           7                                         \n",
      "Covariance Type:            nonrobust                                         \n",
      "==============================================================================\n",
      "                 coef    std err          t      P>|t|      [0.025      0.975]\n",
      "------------------------------------------------------------------------------\n",
      "const          0.0022      0.000      4.421      0.000       0.001       0.003\n",
      "UNRATE         0.0001   4.53e-05      2.507      0.012    2.48e-05       0.000\n",
      "CPI         4.317e-05   2.49e-05      1.736      0.083   -5.58e-06    9.19e-05\n",
      "WHITE_OFF      0.0012   9.59e-05     12.660      0.000       0.001       0.001\n",
      "MALE_OFF       0.0033   9.58e-05     34.687      0.000       0.003       0.004\n",
      "IN_RURAL       0.0012      0.000     11.906      0.000       0.001       0.001\n",
      "PERIOD     -1.063e-05   2.28e-06     -4.667      0.000   -1.51e-05   -6.16e-06\n",
      "PERIOD_SQ   8.317e-10   5.95e-09      0.140      0.889   -1.08e-08    1.25e-08\n",
      "==============================================================================\n",
      "Omnibus:                     2175.881   Durbin-Watson:                   1.064\n",
      "Prob(Omnibus):                  0.000   Jarque-Bera (JB):             6733.287\n",
      "Skew:                           1.477   Prob(JB):                         0.00\n",
      "Kurtosis:                       6.556   Cond. No.                     5.10e+05\n",
      "==============================================================================\n",
      "\n",
      "Notes:\n",
      "[1] Standard Errors assume that the covariance matrix of the errors is correctly specified.\n",
      "[2] The condition number is large, 5.1e+05. This might indicate that there are\n",
      "strong multicollinearity or other numerical problems.\n",
      "\n",
      "===============================\n",
      "               MURDERS_PER_100K\n",
      "-------------------------------\n",
      "const          0.0022***       \n",
      "               (0.0005)        \n",
      "UNRATE         0.0001**        \n",
      "               (0.0000)        \n",
      "CPI            0.0000*         \n",
      "               (0.0000)        \n",
      "WHITE_OFF      0.0012***       \n",
      "               (0.0001)        \n",
      "MALE_OFF       0.0033***       \n",
      "               (0.0001)        \n",
      "IN_RURAL       0.0012***       \n",
      "               (0.0001)        \n",
      "PERIOD         -0.0000***      \n",
      "               (0.0000)        \n",
      "PERIOD_SQ      0.0000          \n",
      "               (0.0000)        \n",
      "R-squared      0.2184          \n",
      "R-squared Adj. 0.2177          \n",
      "Observations   7563            \n",
      "===============================\n",
      "Standard errors in parentheses.\n",
      "* p<.1, ** p<.05, ***p<.01\n"
     ]
    }
   ],
   "source": [
    "# DON'T MODIFY ts HERE\n",
    "\n",
    "# drop any rows that are not infamily murders\n",
    "reg_data = ts[ts['IN_FAMILY'] == 1]\n",
    "\n",
    "x = reg_data[[\"UNRATE\", 'CPI', \"WHITE_OFF\", \"MALE_OFF\", \"IN_RURAL\", 'PERIOD', 'PERIOD_SQ']]\n",
    "x = sm.add_constant(x)\n",
    "y = ((reg_data[\"MURDERS_PER_100K\"]))\n",
    "\n",
    "\n",
    "model = sm.OLS(y, x).fit()\n",
    "\n",
    "print(model.summary())\n",
    "\n",
    "from statsmodels.iolib.summary2 import summary_col\n",
    "res = summary_col(model, stars=True,  info_dict={\n",
    "        'Observations':lambda x: \"{0:d}\".format(int(x.nobs)),\n",
    "    })\n",
    "print(res)\n",
    "\n",
    "# dependent variable mean (putting in the summary stats table)\n",
    "\n"
   ]
  },
  {
   "cell_type": "markdown",
   "metadata": {},
   "source": [
    "### More complicated Reg with Iteration terms"
   ]
  },
  {
   "cell_type": "code",
   "execution_count": 154,
   "metadata": {},
   "outputs": [
    {
     "name": "stdout",
     "output_type": "stream",
     "text": [
      "                            OLS Regression Results                            \n",
      "==============================================================================\n",
      "Dep. Variable:       MURDERS_PER_100K   R-squared:                       0.221\n",
      "Model:                            OLS   Adj. R-squared:                  0.220\n",
      "Method:                 Least Squares   F-statistic:                     165.0\n",
      "Date:                Sun, 28 Apr 2024   Prob (F-statistic):               0.00\n",
      "Time:                        15:02:34   Log-Likelihood:                 30740.\n",
      "No. Observations:                7563   AIC:                        -6.145e+04\n",
      "Df Residuals:                    7549   BIC:                        -6.135e+04\n",
      "Df Model:                          13                                         \n",
      "Covariance Type:            nonrobust                                         \n",
      "================================================================================\n",
      "                   coef    std err          t      P>|t|      [0.025      0.975]\n",
      "--------------------------------------------------------------------------------\n",
      "const            0.0033      0.001      5.569      0.000       0.002       0.005\n",
      "UNRATE       -5.363e-05   7.29e-05     -0.736      0.462      -0.000    8.92e-05\n",
      "CPI           1.755e-05   3.71e-05      0.473      0.636   -5.51e-05    9.02e-05\n",
      "WHITE_OFF        0.0013      0.000      3.004      0.003       0.000       0.002\n",
      "MALE_OFF         0.0016      0.000      3.540      0.000       0.001       0.002\n",
      "IN_RURAL         0.0002      0.000      0.380      0.704      -0.001       0.001\n",
      "PERIOD       -1.064e-05   2.27e-06     -4.681      0.000   -1.51e-05   -6.18e-06\n",
      "PERIOD_SQ     9.309e-10   5.94e-09      0.157      0.876   -1.07e-08    1.26e-08\n",
      "UNRATExWHITE  1.449e-05   7.05e-05      0.205      0.837      -0.000       0.000\n",
      "UNRATExMALE      0.0002   7.05e-05      3.372      0.001    9.95e-05       0.000\n",
      "UNRATExRURAL     0.0001   7.49e-05      1.578      0.115   -2.87e-05       0.000\n",
      "CPIxWHITE    -4.514e-05   3.41e-05     -1.322      0.186      -0.000    2.18e-05\n",
      "CPIxMALE      5.634e-05   3.41e-05      1.652      0.099   -1.05e-05       0.000\n",
      "CPIxRURAL     6.316e-05   3.63e-05      1.739      0.082   -8.02e-06       0.000\n",
      "==============================================================================\n",
      "Omnibus:                     2091.129   Durbin-Watson:                   1.054\n",
      "Prob(Omnibus):                  0.000   Jarque-Bera (JB):             6245.784\n",
      "Skew:                           1.432   Prob(JB):                         0.00\n",
      "Kurtosis:                       6.409   Cond. No.                     7.10e+05\n",
      "==============================================================================\n",
      "\n",
      "Notes:\n",
      "[1] Standard Errors assume that the covariance matrix of the errors is correctly specified.\n",
      "[2] The condition number is large, 7.1e+05. This might indicate that there are\n",
      "strong multicollinearity or other numerical problems.\n",
      "\n",
      "=====================================================\n",
      "               MURDERS_PER_100K I MURDERS_PER_100K II\n",
      "-----------------------------------------------------\n",
      "CPI            0.0000*            0.0000             \n",
      "               (0.0000)           (0.0000)           \n",
      "CPIxMALE                          0.0001*            \n",
      "                                  (0.0000)           \n",
      "CPIxRURAL                         0.0001*            \n",
      "                                  (0.0000)           \n",
      "CPIxWHITE                         -0.0000            \n",
      "                                  (0.0000)           \n",
      "IN_RURAL       0.0012***          0.0002             \n",
      "               (0.0001)           (0.0005)           \n",
      "MALE_OFF       0.0033***          0.0016***          \n",
      "               (0.0001)           (0.0004)           \n",
      "PERIOD         -0.0000***         -0.0000***         \n",
      "               (0.0000)           (0.0000)           \n",
      "PERIOD_SQ      0.0000             0.0000             \n",
      "               (0.0000)           (0.0000)           \n",
      "R-squared      0.2184             0.2213             \n",
      "R-squared Adj. 0.2177             0.2200             \n",
      "UNRATE         0.0001**           -0.0001            \n",
      "               (0.0000)           (0.0001)           \n",
      "UNRATExMALE                       0.0002***          \n",
      "                                  (0.0001)           \n",
      "UNRATExRURAL                      0.0001             \n",
      "                                  (0.0001)           \n",
      "UNRATExWHITE                      0.0000             \n",
      "                                  (0.0001)           \n",
      "WHITE_OFF      0.0012***          0.0013***          \n",
      "               (0.0001)           (0.0004)           \n",
      "const          0.0022***          0.0033***          \n",
      "               (0.0005)           (0.0006)           \n",
      "Observations   7563               7563               \n",
      "=====================================================\n",
      "Standard errors in parentheses.\n",
      "* p<.1, ** p<.05, ***p<.01\n"
     ]
    },
    {
     "name": "stderr",
     "output_type": "stream",
     "text": [
      "/var/folders/47/0p6nq2294x1d5h7qj8zfwf440000gn/T/ipykernel_32314/1031952110.py:2: SettingWithCopyWarning: \n",
      "A value is trying to be set on a copy of a slice from a DataFrame.\n",
      "Try using .loc[row_indexer,col_indexer] = value instead\n",
      "\n",
      "See the caveats in the documentation: https://pandas.pydata.org/pandas-docs/stable/user_guide/indexing.html#returning-a-view-versus-a-copy\n",
      "  reg_data['UNRATExWHITE'] = reg_data['UNRATE'] * reg_data['WHITE_OFF']\n",
      "/var/folders/47/0p6nq2294x1d5h7qj8zfwf440000gn/T/ipykernel_32314/1031952110.py:3: SettingWithCopyWarning: \n",
      "A value is trying to be set on a copy of a slice from a DataFrame.\n",
      "Try using .loc[row_indexer,col_indexer] = value instead\n",
      "\n",
      "See the caveats in the documentation: https://pandas.pydata.org/pandas-docs/stable/user_guide/indexing.html#returning-a-view-versus-a-copy\n",
      "  reg_data['UNRATExMALE'] = reg_data['UNRATE'] * reg_data['MALE_OFF']\n",
      "/var/folders/47/0p6nq2294x1d5h7qj8zfwf440000gn/T/ipykernel_32314/1031952110.py:4: SettingWithCopyWarning: \n",
      "A value is trying to be set on a copy of a slice from a DataFrame.\n",
      "Try using .loc[row_indexer,col_indexer] = value instead\n",
      "\n",
      "See the caveats in the documentation: https://pandas.pydata.org/pandas-docs/stable/user_guide/indexing.html#returning-a-view-versus-a-copy\n",
      "  reg_data['UNRATExRURAL'] = reg_data['UNRATE'] * reg_data['IN_RURAL']\n",
      "/var/folders/47/0p6nq2294x1d5h7qj8zfwf440000gn/T/ipykernel_32314/1031952110.py:5: SettingWithCopyWarning: \n",
      "A value is trying to be set on a copy of a slice from a DataFrame.\n",
      "Try using .loc[row_indexer,col_indexer] = value instead\n",
      "\n",
      "See the caveats in the documentation: https://pandas.pydata.org/pandas-docs/stable/user_guide/indexing.html#returning-a-view-versus-a-copy\n",
      "  reg_data['CPIxWHITE'] = reg_data['CPI'] * reg_data['WHITE_OFF']\n",
      "/var/folders/47/0p6nq2294x1d5h7qj8zfwf440000gn/T/ipykernel_32314/1031952110.py:6: SettingWithCopyWarning: \n",
      "A value is trying to be set on a copy of a slice from a DataFrame.\n",
      "Try using .loc[row_indexer,col_indexer] = value instead\n",
      "\n",
      "See the caveats in the documentation: https://pandas.pydata.org/pandas-docs/stable/user_guide/indexing.html#returning-a-view-versus-a-copy\n",
      "  reg_data['CPIxMALE'] = reg_data['CPI'] * reg_data['MALE_OFF']\n",
      "/var/folders/47/0p6nq2294x1d5h7qj8zfwf440000gn/T/ipykernel_32314/1031952110.py:7: SettingWithCopyWarning: \n",
      "A value is trying to be set on a copy of a slice from a DataFrame.\n",
      "Try using .loc[row_indexer,col_indexer] = value instead\n",
      "\n",
      "See the caveats in the documentation: https://pandas.pydata.org/pandas-docs/stable/user_guide/indexing.html#returning-a-view-versus-a-copy\n",
      "  reg_data['CPIxRURAL'] = reg_data['CPI'] * reg_data['IN_RURAL']\n"
     ]
    }
   ],
   "source": [
    "reg_data = ts[ts['IN_FAMILY'] == 1]\n",
    "reg_data['UNRATExWHITE'] = reg_data['UNRATE'] * reg_data['WHITE_OFF']\n",
    "reg_data['UNRATExMALE'] = reg_data['UNRATE'] * reg_data['MALE_OFF']\n",
    "reg_data['UNRATExRURAL'] = reg_data['UNRATE'] * reg_data['IN_RURAL']\n",
    "reg_data['CPIxWHITE'] = reg_data['CPI'] * reg_data['WHITE_OFF']\n",
    "reg_data['CPIxMALE'] = reg_data['CPI'] * reg_data['MALE_OFF']\n",
    "reg_data['CPIxRURAL'] = reg_data['CPI'] * reg_data['IN_RURAL']\n",
    "\n",
    "\n",
    "\n",
    "x = reg_data[[\"UNRATE\", 'CPI', \"WHITE_OFF\", \"MALE_OFF\", \"IN_RURAL\", 'PERIOD', 'PERIOD_SQ', 'UNRATExWHITE', 'UNRATExMALE','UNRATExRURAL', 'CPIxWHITE', 'CPIxMALE', 'CPIxRURAL']]\n",
    "x = sm.add_constant(x)\n",
    "y = ((reg_data[\"MURDERS_PER_100K\"]))\n",
    "\n",
    "\n",
    "model_interaction = sm.OLS(y, x).fit()\n",
    "\n",
    "print(model_interaction.summary())\n",
    "\n",
    "from statsmodels.iolib.summary2 import summary_col\n",
    "res = summary_col([model, model_interaction], stars=True,  info_dict={\n",
    "        'Observations':lambda x: \"{0:d}\".format(int(x.nobs)),\n",
    "    })\n",
    "print(res)"
   ]
  },
  {
   "cell_type": "markdown",
   "metadata": {},
   "source": [
    "### Simple Reg"
   ]
  },
  {
   "cell_type": "code",
   "execution_count": 140,
   "metadata": {},
   "outputs": [
    {
     "name": "stdout",
     "output_type": "stream",
     "text": [
      "2690.9285714285716\n",
      "                            OLS Regression Results                            \n",
      "==============================================================================\n",
      "Dep. Variable:       MURDERS_PER_100K   R-squared:                       0.916\n",
      "Model:                            OLS   Adj. R-squared:                  0.915\n",
      "Method:                 Least Squares   F-statistic:                     900.4\n",
      "Date:                Sun, 28 Apr 2024   Prob (F-statistic):          1.97e-176\n",
      "Time:                        14:48:22   Log-Likelihood:                 1136.7\n",
      "No. Observations:                 336   AIC:                            -2263.\n",
      "Df Residuals:                     331   BIC:                            -2244.\n",
      "Df Model:                           4                                         \n",
      "Covariance Type:            nonrobust                                         \n",
      "==============================================================================\n",
      "                 coef    std err          t      P>|t|      [0.025      0.975]\n",
      "------------------------------------------------------------------------------\n",
      "const          0.1072      0.005     23.602      0.000       0.098       0.116\n",
      "UNRATE         0.0028      0.000      6.533      0.000       0.002       0.004\n",
      "CPI            0.0010      0.000      4.161      0.000       0.001       0.001\n",
      "PERIOD        -0.0002   2.14e-05    -10.174      0.000      -0.000      -0.000\n",
      "PERIOD_SQ  -3.869e-08   5.59e-08     -0.692      0.489   -1.49e-07    7.13e-08\n",
      "==============================================================================\n",
      "Omnibus:                       10.584   Durbin-Watson:                   1.702\n",
      "Prob(Omnibus):                  0.005   Jarque-Bera (JB):               14.293\n",
      "Skew:                           0.260   Prob(JB):                     0.000788\n",
      "Kurtosis:                       3.867   Cond. No.                     5.08e+05\n",
      "==============================================================================\n",
      "\n",
      "Notes:\n",
      "[1] Standard Errors assume that the covariance matrix of the errors is correctly specified.\n",
      "[2] The condition number is large, 5.08e+05. This might indicate that there are\n",
      "strong multicollinearity or other numerical problems.\n",
      "\n",
      "===============================\n",
      "               MURDERS_PER_100K\n",
      "-------------------------------\n",
      "const          0.1072***       \n",
      "               (0.0045)        \n",
      "UNRATE         0.0028***       \n",
      "               (0.0004)        \n",
      "CPI            0.0010***       \n",
      "               (0.0002)        \n",
      "PERIOD         -0.0002***      \n",
      "               (0.0000)        \n",
      "PERIOD_SQ      -0.0000         \n",
      "               (0.0000)        \n",
      "R-squared      0.9158          \n",
      "R-squared Adj. 0.9148          \n",
      "Observations   336             \n",
      "===============================\n",
      "Standard errors in parentheses.\n",
      "* p<.1, ** p<.05, ***p<.01\n"
     ]
    }
   ],
   "source": [
    "# drop any rows that are not infamily murders\n",
    "\n",
    "reg_data_simple = ts2[ts2['IN_FAMILY'] == 1]\n",
    "\n",
    "\n",
    "x = reg_data_simple[[\"UNRATE\", 'CPI', 'PERIOD', 'PERIOD_SQ']]\n",
    "x = sm.add_constant(x)\n",
    "y = ((reg_data_simple[\"MURDERS_PER_100K\"]))\n",
    "\n",
    "\n",
    "model = sm.OLS(y, x).fit()\n",
    "\n",
    "# average number of annual in-family murders\n",
    "print(reg_data_simple['Counts'].mean() * 12)\n",
    "\n",
    "print(model.summary())\n",
    "\n",
    "from statsmodels.iolib.summary2 import summary_col\n",
    "res = summary_col(model, stars=True,  info_dict={\n",
    "        'Observations':lambda x: \"{0:d}\".format(int(x.nobs)),\n",
    "    })\n",
    "print(res)"
   ]
  },
  {
   "cell_type": "markdown",
   "metadata": {},
   "source": [
    "### Extra plots and figs for paper"
   ]
  },
  {
   "cell_type": "code",
   "execution_count": 141,
   "metadata": {},
   "outputs": [
    {
     "data": {
      "image/png": "[encoded data removed]",
      "text/plain": [
       "<Figure size 640x480 with 1 Axes>"
      ]
     },
     "metadata": {},
     "output_type": "display_data"
    },
    {
     "data": {
      "image/png": "[encoded data removed]",
      "text/plain": [
       "<Figure size 640x480 with 1 Axes>"
      ]
     },
     "metadata": {},
     "output_type": "display_data"
    },
    {
     "data": {
      "image/png": "[encoded data removed]",
      "text/plain": [
       "<Figure size 640x480 with 1 Axes>"
      ]
     },
     "metadata": {},
     "output_type": "display_data"
    }
   ],
   "source": [
    "by_race = reg_data.groupby(['WHITE_OFF']).sum('Counts')\n",
    "by_sex = reg_data.groupby(['MALE_OFF']).sum('Counts')\n",
    "by_rural = reg_data.groupby(['IN_RURAL']).sum('Counts')\n",
    "\n",
    "plt.pie(by_race['Counts'], labels=['Non-White', 'White'], normalize=True, autopct='%1.1f%%')\n",
    "plt.title(\"Offender Race for In-Family Murders\")\n",
    "plt.show()\n",
    "\n",
    "\n",
    "plt.pie(by_sex['Counts'], labels=['Female', 'Male'], normalize=True, autopct='%1.1f%%', colors=['Pink', 'deepskyblue'])\n",
    "plt.title(\"Offender Sex for In-Family Murders\")\n",
    "plt.show()\n",
    "\n",
    "plt.pie(by_rural['Counts'], labels=['Not Rural', 'Rural'], normalize=True, autopct='%1.1f%%', colors=['tomato', 'dodgerblue'])\n",
    "plt.title(\"Murder Location\")\n",
    "plt.show()"
   ]
  },
  {
   "cell_type": "code",
   "execution_count": 142,
   "metadata": {},
   "outputs": [],
   "source": [
    "## more plots\n",
    "\n",
    "by_sex_race = reg_data.groupby(['WHITE_OFF', 'MALE_OFF']).sum('Counts')"
   ]
  },
  {
   "cell_type": "code",
   "execution_count": 143,
   "metadata": {},
   "outputs": [
    {
     "data": {
      "image/png": "[encoded data removed]",
      "text/plain": [
       "<Figure size 640x480 with 1 Axes>"
      ]
     },
     "metadata": {},
     "output_type": "display_data"
    }
   ],
   "source": [
    "# number of in family murders vs non in family\n",
    "by_in_family = ts.groupby(['IN_FAMILY']).sum('Counts')\n",
    "\n",
    "plt.pie(by_in_family['Counts'], labels=['Out-of-Family Murder', 'In-Family Murder'], normalize=True, autopct='%1.1f%%', colors=['firebrick', 'goldenrod'])\n",
    "plt.title(\"Homicide Offender - Victim Relation\")\n",
    "plt.show()\n",
    "\n"
   ]
  },
  {
   "cell_type": "code",
   "execution_count": 144,
   "metadata": {},
   "outputs": [
    {
     "data": {
      "text/plain": [
       "IN_FAMILY           2.701071e+02\n",
       "KILLED_CHILD        1.281071e+02\n",
       "IN_CITY             9.467857e+01\n",
       "WHITE_OFF           1.407857e+02\n",
       "MALE_OFF            1.372857e+02\n",
       "IN_RURAL            8.914286e+01\n",
       "Counts              2.690929e+03\n",
       "PERIOD              4.502954e+04\n",
       "PERIOD_SQ           1.001846e+07\n",
       "LOG_PERIOD          1.303760e+03\n",
       "UNRATE              1.715575e+03\n",
       "POP                 6.801794e+07\n",
       "CPI                 1.224907e+03\n",
       "MURDERS_PER_100K    1.095879e+00\n",
       "dtype: float64"
      ]
     },
     "execution_count": 144,
     "metadata": {},
     "output_type": "execute_result"
    }
   ],
   "source": [
    "# getting total number of in family murders \n",
    "\n",
    "reg_data.groupby('YEAR').sum('Counts').mean()"
   ]
  },
  {
   "cell_type": "code",
   "execution_count": null,
   "metadata": {},
   "outputs": [],
   "source": []
  }
 ],
 "metadata": {
  "kernelspec": {
   "display_name": "venv",
   "language": "python",
   "name": "python3"
  },
  "language_info": {
   "codemirror_mode": {
    "name": "ipython",
    "version": 3
   },
   "file_extension": ".py",
   "mimetype": "text/x-python",
   "name": "python",
   "nbconvert_exporter": "python",
   "pygments_lexer": "ipython3",
   "version": "3.10.13"
  }
 },
 "nbformat": 4,
 "nbformat_minor": 2
}
